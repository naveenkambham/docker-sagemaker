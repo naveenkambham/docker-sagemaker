{
 "cells": [
  {
   "cell_type": "code",
   "execution_count": null,
   "metadata": {},
   "outputs": [],
   "source": [
    "import numpy as np\n",
    "from sklearn import linear_model\n",
    "import pandas as pd\n",
    "from sklearn.metrics import mean_squared_error, r2_score\n",
    "import t4\n",
    "\n",
    "# Load the diabetes dataset\n",
    "df = pd.read_csv(r'data.csv')\n",
    "x,y = df['X'],df['Y']\n",
    "\n",
    "# Split the data into training/testing sets\n",
    "x_train = x[:-10]\n",
    "x_test = x[-10:]\n",
    "\n",
    "# Split the targets into training/testing sets\n",
    "y_train = y[:-10]\n",
    "y_test = y[-10:]\n",
    "\n",
    "# Create linear regression object\n",
    "model = linear_model.LinearRegression()\n",
    "\n",
    "# Train the model using the training sets\n",
    "model.fit(x_train, y_train)\n",
    "\n",
    "# Make predictions using the testing set\n",
    "y_pred = model.predict(x_test)\n",
    "\n",
    "# The coefficients\n",
    "print('Coefficients: \\n', regr.coef_)\n",
    "# The mean squared error\n",
    "print('Mean squared error: %.2f'\n",
    "      % mean_squared_error(y_test,y_pred))\n",
    "# The coefficient of determination: 1 is perfect prediction\n",
    "print('Coefficient of determination: %.2f'\n",
    "      % r2_score(y_test, y_pred))\n",
    "\n",
    "(t4.Package()\n",
    "     .set(\"lr_model\", \"lr_model\")\n",
    "     .set(\"lr_model.tar.gz\", \"lr_model.tar.gz\")\n",
    "     .push(\"docker-sagemaker\", \"s3://docker-sagemaker\", registry=\"s3://docker-sagemaker\")\n",
    ")\n"
   ]
  }
 ],
 "metadata": {
  "kernelspec": {
   "display_name": "Python 3",
   "language": "python",
   "name": "python3"
  },
  "language_info": {
   "codemirror_mode": {
    "name": "ipython",
    "version": 3
   },
   "file_extension": ".py",
   "mimetype": "text/x-python",
   "name": "python",
   "nbconvert_exporter": "python",
   "pygments_lexer": "ipython3",
   "version": "3.7.4"
  }
 },
 "nbformat": 4,
 "nbformat_minor": 1
}
